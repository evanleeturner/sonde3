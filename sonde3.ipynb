{
 "cells": [
  {
   "cell_type": "code",
   "execution_count": 1,
   "metadata": {},
   "outputs": [],
   "source": [
    "import sonde3\n",
    "import pandas\n",
    "import pytz"
   ]
  },
  {
   "cell_type": "code",
   "execution_count": 2,
   "metadata": {
    "scrolled": true
   },
   "outputs": [
    {
     "name": "stdout",
     "output_type": "stream",
     "text": [
      "C:\\Users\\ETurner\\Desktop\\python\\sonde3\n"
     ]
    }
   ],
   "source": [
    "metadata, df = sonde3.read_ysi(\"tests/ysi_test_files/SA08.dat\",pytz.timezone('US/Central'))"
   ]
  },
  {
   "cell_type": "code",
   "execution_count": 3,
   "metadata": {
    "collapsed": true
   },
   "outputs": [],
   "source": [
    "csv = pandas.read_csv(\"tests/ysi_test_files/SA08.CDF\")"
   ]
  },
  {
   "cell_type": "code",
   "execution_count": 4,
   "metadata": {},
   "outputs": [
    {
     "name": "stdout",
     "output_type": "stream",
     "text": [
      "<class 'pandas.core.frame.DataFrame'>\n",
      "RangeIndex: 701 entries, 0 to 700\n",
      "Data columns (total 12 columns):\n",
      "Date           701 non-null object\n",
      "Time           701 non-null object\n",
      "Temp           701 non-null object\n",
      "SpCond         701 non-null object\n",
      "Depth          701 non-null object\n",
      "ODO%           701 non-null object\n",
      "Battery        701 non-null object\n",
      "Cond           701 non-null object\n",
      "ODO Conc       701 non-null object\n",
      "Resistivity    701 non-null object\n",
      "Salinity       701 non-null object\n",
      "TDS            701 non-null object\n",
      "dtypes: object(12)\n",
      "memory usage: 65.8+ KB\n"
     ]
    }
   ],
   "source": [
    "csv.info()"
   ]
  },
  {
   "cell_type": "code",
   "execution_count": 5,
   "metadata": {},
   "outputs": [
    {
     "name": "stdout",
     "output_type": "stream",
     "text": [
      "<class 'pandas.core.frame.DataFrame'>\n",
      "RangeIndex: 700 entries, 0 to 699\n",
      "Data columns (total 6 columns):\n",
      "Datetime_(UTC)    700 non-null datetime64[ns, UTC]\n",
      "_TempC            700 non-null float64\n",
      "_CmS/cm           700 non-null float64\n",
      "_Depm             700 non-null float64\n",
      "_DO%              700 non-null float64\n",
      "_BattV            700 non-null float64\n",
      "dtypes: datetime64[ns, UTC](1), float64(5)\n",
      "memory usage: 32.9 KB\n"
     ]
    }
   ],
   "source": [
    "df.info()"
   ]
  },
  {
   "cell_type": "code",
   "execution_count": 6,
   "metadata": {},
   "outputs": [],
   "source": [
    "import sonde3\n",
    "import os\n",
    "\n",
    "root_dir = 'tests'\n",
    "results = []\n",
    "for directory, subdirectories, files in os.walk(root_dir):\n",
    "    for file in files:\n",
    "        if \"_test.txt\" in file:\n",
    "            continue\n",
    "        os.path.join(directory, file)\n",
    "        results.append(os.path.join(directory, file) + ' ' + sonde3.autodetect(os.path.join(directory, file)))\n",
    "        \n",
    "        "
   ]
  },
  {
   "cell_type": "code",
   "execution_count": 7,
   "metadata": {},
   "outputs": [
    {
     "data": {
      "text/plain": [
       "'greenspan_xls'"
      ]
     },
     "execution_count": 7,
     "metadata": {},
     "output_type": "execute_result"
    }
   ],
   "source": [
    "sonde3.autodetect(\"tests/greenspan_test_files/RIOA_20060718_CDT_GS7837.xls\") "
   ]
  },
  {
   "cell_type": "code",
   "execution_count": 8,
   "metadata": {},
   "outputs": [
    {
     "data": {
      "text/plain": [
       "['tests\\\\format_tests.py unsupported_ascii',\n",
       " 'tests\\\\sonde_tests.py unsupported_ascii',\n",
       " 'tests\\\\test_file_example.txt unsupported_ascii',\n",
       " 'tests\\\\ysi_tests.py unsupported_ascii',\n",
       " 'tests\\\\__init__.py unsupported_ascii',\n",
       " 'tests\\\\espey_test_files\\\\BZ3L_ALL.csv espey_csv',\n",
       " 'tests\\\\eureka_test_files\\\\JARD_20070222_CST_EU7396.xls eureka_xls',\n",
       " 'tests\\\\eureka_test_files\\\\JARD_20070404_CDT_EU7396.xls unsupported_xls',\n",
       " 'tests\\\\eureka_test_files\\\\JARD_20070425_CDT_EU7396.xls unsupported_xls',\n",
       " 'tests\\\\eureka_test_files\\\\JDM2_20060808_CDT_EU0312.csv unsupported_ascii',\n",
       " 'tests\\\\eureka_test_files\\\\JDM2_20060919_CDT_EU0312.csv unsupported_csv',\n",
       " 'tests\\\\eureka_test_files\\\\JDM2_20070410_CST_EU0312.csv unsupported_ascii',\n",
       " 'tests\\\\eureka_test_files\\\\JDM4_20060919_CDT_EU0313.csv unsupported_csv',\n",
       " 'tests\\\\eureka_test_files\\\\MCF1_20060322_CST_EU0096.csv unsupported_ascii',\n",
       " 'tests\\\\eureka_test_files\\\\MCF1_20060807_CDT_EU0097.csv eureka_csv',\n",
       " 'tests\\\\eureka_test_files\\\\MCF1_20061101_CDT_EU0097.csv eureka_csv',\n",
       " 'tests\\\\eureka_test_files\\\\MCF1_20061211_CDT_EU0096.csv unsupported_ascii',\n",
       " 'tests\\\\eureka_test_files\\\\MCF1_20061211_CDT_EU0096.xls unsupported_ascii',\n",
       " 'tests\\\\eureka_test_files\\\\MCF1_20070411_CST_EU0097.csv unsupported_ascii',\n",
       " 'tests\\\\eureka_test_files\\\\RIOA_20070126_CST_EU7837.xls greenspan_xls',\n",
       " 'tests\\\\eureka_test_files\\\\RIOA_20070223_CST_EU7837.xls greenspan_xls',\n",
       " 'tests\\\\eureka_test_files\\\\RIOA_20071215_CST_EU7837.xls greenspan_xls',\n",
       " 'tests\\\\eureka_test_files\\\\RIOF_20070525_CDT_EU7396.xls unsupported_xls',\n",
       " 'tests\\\\eureka_test_files\\\\RIOF_20070612_CDT_EU0468.xls unsupported_xls',\n",
       " 'tests\\\\eureka_test_files\\\\RIOF_20070727_CDT_EU7396.xls unsupported_xls',\n",
       " 'tests\\\\eureka_test_files\\\\RIOF_20070810_CDT_EU7396.xls unsupported_xls',\n",
       " 'tests\\\\eureka_test_files\\\\RIOF_20070913_CDT_EU0468.xls eureka_xls',\n",
       " 'tests\\\\eureka_test_files\\\\RIOF_20071023_CST_EU7396.xls eureka_xls',\n",
       " 'tests\\\\eureka_test_files\\\\RIOF_20071113_CST_EU0468.xls unsupported_xls',\n",
       " 'tests\\\\eureka_test_files\\\\RIOF_20080122_CST_EU0468.xls eureka_xls',\n",
       " 'tests\\\\eureka_test_files\\\\RIOF_20080219_CST_EU7396.xls eureka_xls',\n",
       " 'tests\\\\eureka_test_files\\\\RIOF_20080327_CDT_EU0468.xls eureka_xls',\n",
       " 'tests\\\\eureka_test_files\\\\RIOF_20080417_CDT_EU7396.xls eureka_xls',\n",
       " 'tests\\\\eureka_test_files\\\\RIOF_20080417_CDT_EU7396.xlsx unsupported_csv',\n",
       " 'tests\\\\eureka_test_files\\\\RIOF_20080513_CDT_EU0468.xls eureka_xls',\n",
       " 'tests\\\\generic_test_files\\\\test1.csv generic_csv',\n",
       " 'tests\\\\greenspan_test_files\\\\1208SB1S.csv greenspan_csv',\n",
       " 'tests\\\\greenspan_test_files\\\\1208SB1S.dat greenspan_csv',\n",
       " 'tests\\\\greenspan_test_files\\\\1208SB1S.gbf unsupported_csv',\n",
       " 'tests\\\\greenspan_test_files\\\\1208SB1S_dat_incomplete.txt unsupported_ascii',\n",
       " 'tests\\\\greenspan_test_files\\\\JARD_20050804_CDT_GS1027.txt greenspan_csv',\n",
       " 'tests\\\\greenspan_test_files\\\\JARD_20060718_CDT_GS9549.txt greenspan_csv',\n",
       " 'tests\\\\greenspan_test_files\\\\JARD_20060718_CDT_GS9549.xls greenspan_xls',\n",
       " 'tests\\\\greenspan_test_files\\\\JARD_20070524_CDT_GS7837.txt greenspan_csv',\n",
       " 'tests\\\\greenspan_test_files\\\\JARD_20070525_CDT_GS7837.xls greenspan_xls',\n",
       " 'tests\\\\greenspan_test_files\\\\JARD_20071019_CDT_GS9550.xls greenspan_xls',\n",
       " 'tests\\\\greenspan_test_files\\\\JARD_20071112_CST_GS7837.xls greenspan_xls',\n",
       " 'tests\\\\greenspan_test_files\\\\JARD_20080122_CST_GS8327.xls greenspan_xls',\n",
       " 'tests\\\\greenspan_test_files\\\\JARD_20080416_CDT_GS9550.xls greenspan_xls',\n",
       " 'tests\\\\greenspan_test_files\\\\JDM2_20060130_CST_GS0639.dat greenspan_csv',\n",
       " 'tests\\\\greenspan_test_files\\\\JDM2_20060130_CST_GS0639.txt unsupported_ascii',\n",
       " 'tests\\\\greenspan_test_files\\\\JDM2_20060130_CST_GS0639_txt_incomplete.txt unsupported_ascii',\n",
       " 'tests\\\\greenspan_test_files\\\\JDM2_20060510_CST_GS0639.csv greenspan_csv',\n",
       " 'tests\\\\greenspan_test_files\\\\JDM4_20060130_CST_GS0638.dat greenspan_csv',\n",
       " 'tests\\\\greenspan_test_files\\\\JDM4_20060130_CST_GS0638.gbf unsupported_csv',\n",
       " 'tests\\\\greenspan_test_files\\\\JDM4_20060130_CST_GS0638.txt unsupported_ascii',\n",
       " 'tests\\\\greenspan_test_files\\\\JDM4_20070410_CST_GS0638.csv greenspan_csv',\n",
       " 'tests\\\\greenspan_test_files\\\\JDM4_20070410_CST_GS0638.dat greenspan_csv',\n",
       " 'tests\\\\greenspan_test_files\\\\JDM4_20070410_CST_GS0638.gbf unsupported_csv',\n",
       " 'tests\\\\greenspan_test_files\\\\RIO F_20060817_CDT_GS1027.xls greenspan_xls',\n",
       " 'tests\\\\greenspan_test_files\\\\RIOA_20060718_CDT_GS7837.txt greenspan_csv',\n",
       " 'tests\\\\greenspan_test_files\\\\RIOA_20060718_CDT_GS7837.xls greenspan_xls',\n",
       " 'tests\\\\greenspan_test_files\\\\RIOA_20070525_CDT_GS9549.txt greenspan_csv',\n",
       " 'tests\\\\greenspan_test_files\\\\RIOA_20070525_CDT_GS9549.xls greenspan_xls',\n",
       " 'tests\\\\greenspan_test_files\\\\RIOA_20080218_CST_GS8853.xls greenspan_xls',\n",
       " 'tests\\\\greenspan_test_files\\\\RIOF_20060213_CST_GS1027.txt greenspan_csv',\n",
       " 'tests\\\\greenspan_test_files\\\\RIOF_20060608_CDT_GS7837.txt greenspan_csv',\n",
       " 'tests\\\\greenspan_test_files\\\\RIOF_20070126_CST_GS1027.xls greenspan_xls',\n",
       " 'tests\\\\greenspan_test_files\\\\RIOF_20070126_CST_GS1027.xls.orig greenspan_xls',\n",
       " 'tests\\\\greenspan_test_files\\\\SB1W_20081216_CST_GS5393.csv greenspan_csv',\n",
       " 'tests\\\\greenspan_test_files\\\\SB2S_20090331_CDT_GS5397.csv greenspan_csv',\n",
       " 'tests\\\\greenspan_test_files\\\\SB2W_20090331_CDT_GS5394.csv greenspan_csv',\n",
       " 'tests\\\\greenspan_test_files\\\\SB3S_20090227_CST_GS5346.csv greenspan_csv',\n",
       " 'tests\\\\greenspan_test_files\\\\SB3W_20090331_CDT_GS5396.csv greenspan_csv',\n",
       " 'tests\\\\hydrolab_test_files\\\\BAYT_20031117_CST_HY349_000.txt hydrolab_csv',\n",
       " 'tests\\\\hydrolab_test_files\\\\BIRD_20030827_CDT_HY000_000.txt hydrolab_csv',\n",
       " 'tests\\\\hydrolab_test_files\\\\BIRD_20031001_CDT_HY000_000.txt hydrolab_csv',\n",
       " 'tests\\\\hydrolab_test_files\\\\BIRD_20040105_CST_HY000_000.txt hydrolab_csv',\n",
       " 'tests\\\\hydrolab_test_files\\\\CCBAY_20021011_CDT_HY000_000.txt hydrolab_csv',\n",
       " 'tests\\\\hydrolab_test_files\\\\LAV_20020503_CDT_HY000_000.txt hydrolab_csv',\n",
       " 'tests\\\\hydrolab_test_files\\\\LAV_20050420_CDT_HY000_000.txt hydrolab_csv',\n",
       " 'tests\\\\hydrolab_test_files\\\\MATA_20020708_CDT_HY5391_000.txt hydrolab_csv',\n",
       " 'tests\\\\hydrolab_test_files\\\\OLDR_20041130_CST_HY5532_000.txt hydrolab_csv',\n",
       " 'tests\\\\hydrolab_test_files\\\\SANT_20050309_CST_HY0000_000.txt hydrolab_csv',\n",
       " 'tests\\\\hydrolab_test_files\\\\SANT_20050420_CDT_HY0000_000.txt hydrolab_csv',\n",
       " 'tests\\\\hydrolab_test_files\\\\SANT_20050912_CDT_HY0000_000.txt hydrolab_csv',\n",
       " 'tests\\\\hydrolab_test_files\\\\SANT_20060213_CST_HY4077_000.txt hydrolab_csv',\n",
       " 'tests\\\\hydrolab_test_files\\\\SANT_20060503_CDT_HY0000_000.txt hydrolab_csv',\n",
       " 'tests\\\\hydrolab_test_files\\\\SANT_20060710_CDT_HY0000_000.txt hydrolab_csv',\n",
       " 'tests\\\\hydrolab_test_files\\\\SANT_20070125_CST_HY0000_000.txt hydrolab_csv',\n",
       " 'tests\\\\hydrolab_test_files\\\\SANT_20070228_CST_HY1814_000.txt hydrolab_csv',\n",
       " 'tests\\\\hydrolab_test_files\\\\SAN_20050203_CST_HY0000_000.txt hydrolab_csv',\n",
       " 'tests\\\\hydrolab_test_files\\\\SAN_20051220_CST_HY0000_000.txt hydrolab_csv',\n",
       " 'tests\\\\hydrolab_test_files\\\\SAN_20060913_CDT_HY0000_000.TXT hydrolab_csv',\n",
       " 'tests\\\\hydrolab_test_files\\\\SAN_20070514_CDT_HY1811_000.txt hydrolab_csv',\n",
       " 'tests\\\\hydrotech_test_files\\\\0109CHKN.csv hydrotech_csv',\n",
       " 'tests\\\\hydrotech_test_files\\\\0109CONT.csv hydrotech_csv',\n",
       " 'tests\\\\hydrotech_test_files\\\\0109DELT.CSV hydrotech_csv',\n",
       " 'tests\\\\hydrotech_test_files\\\\0109MOSQ.csv hydrotech_csv',\n",
       " 'tests\\\\hydrotech_test_files\\\\0209CHKN.csv hydrotech_csv',\n",
       " 'tests\\\\hydrotech_test_files\\\\0209CONT.csv hydrotech_csv',\n",
       " 'tests\\\\hydrotech_test_files\\\\0209delt.csv hydrotech_csv',\n",
       " 'tests\\\\hydrotech_test_files\\\\0209MOSQ.csv hydrotech_csv',\n",
       " 'tests\\\\hydrotech_test_files\\\\0808chkn.csv hydrotech_csv',\n",
       " 'tests\\\\hydrotech_test_files\\\\0808cont.csv hydrotech_csv',\n",
       " 'tests\\\\hydrotech_test_files\\\\0808delt.csv unsupported_csv',\n",
       " 'tests\\\\hydrotech_test_files\\\\0808mosq.csv hydrotech_csv',\n",
       " 'tests\\\\hydrotech_test_files\\\\1008chkn.csv hydrotech_csv',\n",
       " 'tests\\\\hydrotech_test_files\\\\1008chkn0.csv hydrotech_csv',\n",
       " 'tests\\\\hydrotech_test_files\\\\1008cont.csv hydrotech_csv',\n",
       " 'tests\\\\hydrotech_test_files\\\\1008delt.csv unsupported_csv',\n",
       " 'tests\\\\hydrotech_test_files\\\\1008MOSQx.csv hydrotech_csv',\n",
       " 'tests\\\\macroctd_test_files\\\\JDM1_20060919_CDT_MC0647.001 macroctd_binary',\n",
       " 'tests\\\\macroctd_test_files\\\\JDM1_20060919_CDT_MC0647.csv unsupported_ascii',\n",
       " 'tests\\\\macroctd_test_files\\\\JDM1_20061101_CDT_MC0646.001 solinst_csv',\n",
       " 'tests\\\\macroctd_test_files\\\\JDM1_20061101_CDT_MC0646.csv unsupported_ascii',\n",
       " 'tests\\\\macroctd_test_files\\\\JDM3_20070221_CST_MC0646.001 macroctd_binary',\n",
       " 'tests\\\\macroctd_test_files\\\\JDM3_20070221_CST_MC0646.csv unsupported_ascii',\n",
       " 'tests\\\\midgewater_test_files\\\\BRAZOSD_20090812_CXT_MW9999.txt midgewater_csv',\n",
       " 'tests\\\\solinst_test_files\\\\0712NU08.csv solinst_csv',\n",
       " 'tests\\\\solinst_test_files\\\\0812NU08.csv solinst_csv',\n",
       " 'tests\\\\solinst_test_files\\\\0812Nude3_Baro.csv solinst_csv',\n",
       " 'tests\\\\solinst_test_files\\\\1034598.lev solinst_csv',\n",
       " 'tests\\\\solinst_test_files\\\\1034602.lev solinst_csv',\n",
       " 'tests\\\\solinst_test_files\\\\FallsCity63606_09_16_10.lev solinst_csv',\n",
       " 'tests\\\\solinst_test_files\\\\JDM1_20060130_CST_SL0652.lev solinst_csv',\n",
       " 'tests\\\\solinst_test_files\\\\JDM3_20060510_CST_SL0659.lev solinst_csv',\n",
       " 'tests\\\\solinst_test_files\\\\JDM4_20060807_CDT_SL0653.lev solinst_csv',\n",
       " 'tests\\\\solinst_test_files\\\\MCF1_20060130_CST_SL0653.lev solinst_csv',\n",
       " 'tests\\\\solinst_test_files\\\\MCF2_20070411_CST_SL0657.lev solinst_csv',\n",
       " 'tests\\\\solinst_test_files\\\\MCF3_20060322_CST_SL0653.lev solinst_csv',\n",
       " 'tests\\\\solinst_test_files\\\\MCFHQ_20060130_CST_SB6796.lev solinst_csv',\n",
       " 'tests\\\\solinst_test_files\\\\MCFHQ_20070411_CST_SB6796.lev solinst_csv',\n",
       " 'tests\\\\ysi_test_files\\\\0108BAYT.CDF ysi_csv',\n",
       " 'tests\\\\ysi_test_files\\\\0108BAYT.csv ysi_csv',\n",
       " 'tests\\\\ysi_test_files\\\\0108BAYT.dat ysi_binary',\n",
       " 'tests\\\\ysi_test_files\\\\0108BAYT.INI unsupported_ascii',\n",
       " 'tests\\\\ysi_test_files\\\\0108BAYT_1.CDF ysi_csv',\n",
       " 'tests\\\\ysi_test_files\\\\0610SB6W.txt ysi_text',\n",
       " 'tests\\\\ysi_test_files\\\\1206TRI.CDF ysi_csv',\n",
       " 'tests\\\\ysi_test_files\\\\1206TRI.dat ysi_binary',\n",
       " 'tests\\\\ysi_test_files\\\\BAYT_20070323_CDT_YS1772AA_000.CDF ysi_csv',\n",
       " 'tests\\\\ysi_test_files\\\\BAYT_20070323_CDT_YS1772AA_000.csv ysi_csv',\n",
       " 'tests\\\\ysi_test_files\\\\BAYT_20070323_CDT_YS1772AA_000.dat ysi_binary',\n",
       " 'tests\\\\ysi_test_files\\\\LAVC1010.txt ysi_text',\n",
       " 'tests\\\\ysi_test_files\\\\SA07.CDF ysi_csv',\n",
       " 'tests\\\\ysi_test_files\\\\SA07.dat ysi_binary',\n",
       " 'tests\\\\ysi_test_files\\\\SA08.CDF ysi_csv',\n",
       " 'tests\\\\ysi_test_files\\\\SA08.dat ysi_binary']"
      ]
     },
     "execution_count": 8,
     "metadata": {},
     "output_type": "execute_result"
    }
   ],
   "source": [
    "results"
   ]
  },
  {
   "cell_type": "code",
   "execution_count": 9,
   "metadata": {},
   "outputs": [
    {
     "data": {
      "text/plain": [
       "'greenspan_csv'"
      ]
     },
     "execution_count": 9,
     "metadata": {},
     "output_type": "execute_result"
    }
   ],
   "source": [
    "sonde3.autodetect(\"tests\\\\greenspan_test_files\\\\SB3W_20090331_CDT_GS5396.csv\")"
   ]
  },
  {
   "cell_type": "code",
   "execution_count": null,
   "metadata": {
    "collapsed": true
   },
   "outputs": [],
   "source": []
  }
 ],
 "metadata": {
  "kernelspec": {
   "display_name": "Python 3",
   "language": "python",
   "name": "python3"
  },
  "language_info": {
   "codemirror_mode": {
    "name": "ipython",
    "version": 3
   },
   "file_extension": ".py",
   "mimetype": "text/x-python",
   "name": "python",
   "nbconvert_exporter": "python",
   "pygments_lexer": "ipython3",
   "version": "3.6.1"
  }
 },
 "nbformat": 4,
 "nbformat_minor": 2
}
