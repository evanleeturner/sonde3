{
 "cells": [
  {
   "cell_type": "code",
   "execution_count": 1,
   "metadata": {},
   "outputs": [],
   "source": [
    "import sonde3\n",
    "import pandas\n",
    "import pytz"
   ]
  },
  {
   "cell_type": "code",
   "execution_count": 2,
   "metadata": {
    "scrolled": true
   },
   "outputs": [],
   "source": [
    "metadata, df = sonde3.read_ysi(\"tests/ysi_test_files/SA08.dat\",pytz.timezone('US/Central'))\n"
   ]
  },
  {
   "cell_type": "code",
   "execution_count": 3,
   "metadata": {
    "collapsed": true
   },
   "outputs": [],
   "source": [
    "csv = pandas.read_csv(\"tests/ysi_test_files/SA08.CDF\")"
   ]
  },
  {
   "cell_type": "code",
   "execution_count": 4,
   "metadata": {},
   "outputs": [],
   "source": [
    "import sonde3\n",
    "import os\n",
    "\n",
    "root_dir = 'tests'\n",
    "results = []\n",
    "for directory, subdirectories, files in os.walk(root_dir):\n",
    "    for file in files:\n",
    "        if \"_test.txt\" in file:\n",
    "            continue\n",
    "        os.path.join(directory, file)\n",
    "        results.append(os.path.join(directory, file) + ' ' + sonde3.autodetect(os.path.join(directory, file)))\n",
    "        \n",
    "        "
   ]
  },
  {
   "cell_type": "code",
   "execution_count": 5,
   "metadata": {},
   "outputs": [
    {
     "data": {
      "text/plain": [
       "'greenspan_xls'"
      ]
     },
     "execution_count": 5,
     "metadata": {},
     "output_type": "execute_result"
    }
   ],
   "source": [
    "sonde3.autodetect(\"tests/greenspan_test_files/RIOA_20060718_CDT_GS7837.xls\") "
   ]
  },
  {
   "cell_type": "code",
   "execution_count": 6,
   "metadata": {},
   "outputs": [
    {
     "data": {
      "text/plain": [
       "'greenspan_csv'"
      ]
     },
     "execution_count": 6,
     "metadata": {},
     "output_type": "execute_result"
    }
   ],
   "source": [
    "sonde3.autodetect(\"tests\\\\greenspan_test_files\\\\SB3W_20090331_CDT_GS5396.csv\")"
   ]
  },
  {
   "cell_type": "code",
   "execution_count": 7,
   "metadata": {},
   "outputs": [],
   "source": [
    "metadata, df = sonde3.sonde(\"tests\\\\greenspan_test_files\\\\SB3W_20090331_CDT_GS5396.csv\")"
   ]
  },
  {
   "cell_type": "code",
   "execution_count": 8,
   "metadata": {
    "collapsed": true
   },
   "outputs": [],
   "source": [
    "metadata"
   ]
  },
  {
   "cell_type": "code",
   "execution_count": 9,
   "metadata": {},
   "outputs": [
    {
     "name": "stderr",
     "output_type": "stream",
     "text": [
      "C:\\Users\\ETurner\\AppData\\Local\\Continuum\\Anaconda3\\lib\\site-packages\\seawater\\library.py:363: RuntimeWarning: invalid value encountered in sqrt\n",
      "  Rtx = (rt) ** 0.5\n"
     ]
    }
   ],
   "source": [
    "metadata, df = sonde3.sonde(\"tests/ysi_test_files/SA08.dat\",pytz.timezone('US/Central'))"
   ]
  },
  {
   "cell_type": "code",
   "execution_count": 10,
   "metadata": {},
   "outputs": [
    {
     "data": {
      "text/html": [
       "<div>\n",
       "<style>\n",
       "    .dataframe thead tr:only-child th {\n",
       "        text-align: right;\n",
       "    }\n",
       "\n",
       "    .dataframe thead th {\n",
       "        text-align: left;\n",
       "    }\n",
       "\n",
       "    .dataframe tbody tr th {\n",
       "        vertical-align: top;\n",
       "    }\n",
       "</style>\n",
       "<table border=\"1\" class=\"dataframe\">\n",
       "  <thead>\n",
       "    <tr style=\"text-align: right;\">\n",
       "      <th></th>\n",
       "      <th>datetime_(UTC)</th>\n",
       "      <th>water_temp_c</th>\n",
       "      <th>water_conductivity_mS/cm</th>\n",
       "      <th>water_depth_m_nonvented</th>\n",
       "      <th>water_DO_%</th>\n",
       "      <th>instrument_battery_voltage</th>\n",
       "      <th>seawater_salinity_PSU</th>\n",
       "      <th>seawater_do_mgl</th>\n",
       "    </tr>\n",
       "  </thead>\n",
       "  <tbody>\n",
       "    <tr>\n",
       "      <th>0</th>\n",
       "      <td>2008-07-16 12:51:31+00:00</td>\n",
       "      <td>28.998718</td>\n",
       "      <td>0.000037</td>\n",
       "      <td>0.010862</td>\n",
       "      <td>93.391418</td>\n",
       "      <td>6.09375</td>\n",
       "      <td>0.013536</td>\n",
       "      <td>7.183420</td>\n",
       "    </tr>\n",
       "    <tr>\n",
       "      <th>1</th>\n",
       "      <td>2008-07-16 13:51:31+00:00</td>\n",
       "      <td>28.482361</td>\n",
       "      <td>0.000059</td>\n",
       "      <td>0.016358</td>\n",
       "      <td>96.765137</td>\n",
       "      <td>6.09375</td>\n",
       "      <td>0.013326</td>\n",
       "      <td>7.510631</td>\n",
       "    </tr>\n",
       "    <tr>\n",
       "      <th>2</th>\n",
       "      <td>2008-07-16 14:51:31+00:00</td>\n",
       "      <td>27.257385</td>\n",
       "      <td>0.000546</td>\n",
       "      <td>0.017263</td>\n",
       "      <td>103.529358</td>\n",
       "      <td>6.09375</td>\n",
       "      <td>0.012655</td>\n",
       "      <td>8.212117</td>\n",
       "    </tr>\n",
       "    <tr>\n",
       "      <th>3</th>\n",
       "      <td>2008-07-16 15:51:31+00:00</td>\n",
       "      <td>29.507751</td>\n",
       "      <td>21.301758</td>\n",
       "      <td>0.542648</td>\n",
       "      <td>93.055725</td>\n",
       "      <td>6.09375</td>\n",
       "      <td>11.601472</td>\n",
       "      <td>6.655432</td>\n",
       "    </tr>\n",
       "    <tr>\n",
       "      <th>4</th>\n",
       "      <td>2008-07-16 16:51:31+00:00</td>\n",
       "      <td>29.762268</td>\n",
       "      <td>21.454102</td>\n",
       "      <td>0.557098</td>\n",
       "      <td>94.188690</td>\n",
       "      <td>6.09375</td>\n",
       "      <td>11.631321</td>\n",
       "      <td>6.706414</td>\n",
       "    </tr>\n",
       "  </tbody>\n",
       "</table>\n",
       "</div>"
      ],
      "text/plain": [
       "             datetime_(UTC)  water_temp_c  water_conductivity_mS/cm  \\\n",
       "0 2008-07-16 12:51:31+00:00     28.998718                  0.000037   \n",
       "1 2008-07-16 13:51:31+00:00     28.482361                  0.000059   \n",
       "2 2008-07-16 14:51:31+00:00     27.257385                  0.000546   \n",
       "3 2008-07-16 15:51:31+00:00     29.507751                 21.301758   \n",
       "4 2008-07-16 16:51:31+00:00     29.762268                 21.454102   \n",
       "\n",
       "   water_depth_m_nonvented  water_DO_%  instrument_battery_voltage  \\\n",
       "0                 0.010862   93.391418                     6.09375   \n",
       "1                 0.016358   96.765137                     6.09375   \n",
       "2                 0.017263  103.529358                     6.09375   \n",
       "3                 0.542648   93.055725                     6.09375   \n",
       "4                 0.557098   94.188690                     6.09375   \n",
       "\n",
       "   seawater_salinity_PSU  seawater_do_mgl  \n",
       "0               0.013536         7.183420  \n",
       "1               0.013326         7.510631  \n",
       "2               0.012655         8.212117  \n",
       "3              11.601472         6.655432  \n",
       "4              11.631321         6.706414  "
      ]
     },
     "execution_count": 10,
     "metadata": {},
     "output_type": "execute_result"
    }
   ],
   "source": [
    "df.head()\n"
   ]
  },
  {
   "cell_type": "code",
   "execution_count": 11,
   "metadata": {},
   "outputs": [
    {
     "name": "stderr",
     "output_type": "stream",
     "text": [
      "C:\\Users\\ETurner\\AppData\\Local\\Continuum\\Anaconda3\\lib\\site-packages\\seawater\\library.py:363: RuntimeWarning: invalid value encountered in sqrt\n",
      "  Rtx = (rt) ** 0.5\n"
     ]
    }
   ],
   "source": [
    "metadata, df = sonde3.read_ysi(\"tests/ysi_test_files/SA08.dat\",pytz.timezone('US/Central'))\n",
    "df = sonde3.calculate_salinity_psu(df)"
   ]
  },
  {
   "cell_type": "code",
   "execution_count": 12,
   "metadata": {},
   "outputs": [
    {
     "data": {
      "text/html": [
       "<div>\n",
       "<style>\n",
       "    .dataframe thead tr:only-child th {\n",
       "        text-align: right;\n",
       "    }\n",
       "\n",
       "    .dataframe thead th {\n",
       "        text-align: left;\n",
       "    }\n",
       "\n",
       "    .dataframe tbody tr th {\n",
       "        vertical-align: top;\n",
       "    }\n",
       "</style>\n",
       "<table border=\"1\" class=\"dataframe\">\n",
       "  <thead>\n",
       "    <tr style=\"text-align: right;\">\n",
       "      <th></th>\n",
       "      <th>datetime_(UTC)</th>\n",
       "      <th>water_temp_c</th>\n",
       "      <th>water_conductivity_mS/cm</th>\n",
       "      <th>water_depth_m_nonvented</th>\n",
       "      <th>water_DO_%</th>\n",
       "      <th>instrument_battery_voltage</th>\n",
       "      <th>seawater_salinity_PSU</th>\n",
       "    </tr>\n",
       "  </thead>\n",
       "  <tbody>\n",
       "    <tr>\n",
       "      <th>0</th>\n",
       "      <td>2008-07-16 12:51:31+00:00</td>\n",
       "      <td>28.998718</td>\n",
       "      <td>0.000037</td>\n",
       "      <td>0.010862</td>\n",
       "      <td>93.391418</td>\n",
       "      <td>6.09375</td>\n",
       "      <td>0.013536</td>\n",
       "    </tr>\n",
       "    <tr>\n",
       "      <th>1</th>\n",
       "      <td>2008-07-16 13:51:31+00:00</td>\n",
       "      <td>28.482361</td>\n",
       "      <td>0.000059</td>\n",
       "      <td>0.016358</td>\n",
       "      <td>96.765137</td>\n",
       "      <td>6.09375</td>\n",
       "      <td>0.013326</td>\n",
       "    </tr>\n",
       "    <tr>\n",
       "      <th>2</th>\n",
       "      <td>2008-07-16 14:51:31+00:00</td>\n",
       "      <td>27.257385</td>\n",
       "      <td>0.000546</td>\n",
       "      <td>0.017263</td>\n",
       "      <td>103.529358</td>\n",
       "      <td>6.09375</td>\n",
       "      <td>0.012655</td>\n",
       "    </tr>\n",
       "    <tr>\n",
       "      <th>3</th>\n",
       "      <td>2008-07-16 15:51:31+00:00</td>\n",
       "      <td>29.507751</td>\n",
       "      <td>21.301758</td>\n",
       "      <td>0.542648</td>\n",
       "      <td>93.055725</td>\n",
       "      <td>6.09375</td>\n",
       "      <td>11.601472</td>\n",
       "    </tr>\n",
       "    <tr>\n",
       "      <th>4</th>\n",
       "      <td>2008-07-16 16:51:31+00:00</td>\n",
       "      <td>29.762268</td>\n",
       "      <td>21.454102</td>\n",
       "      <td>0.557098</td>\n",
       "      <td>94.188690</td>\n",
       "      <td>6.09375</td>\n",
       "      <td>11.631321</td>\n",
       "    </tr>\n",
       "  </tbody>\n",
       "</table>\n",
       "</div>"
      ],
      "text/plain": [
       "             datetime_(UTC)  water_temp_c  water_conductivity_mS/cm  \\\n",
       "0 2008-07-16 12:51:31+00:00     28.998718                  0.000037   \n",
       "1 2008-07-16 13:51:31+00:00     28.482361                  0.000059   \n",
       "2 2008-07-16 14:51:31+00:00     27.257385                  0.000546   \n",
       "3 2008-07-16 15:51:31+00:00     29.507751                 21.301758   \n",
       "4 2008-07-16 16:51:31+00:00     29.762268                 21.454102   \n",
       "\n",
       "   water_depth_m_nonvented  water_DO_%  instrument_battery_voltage  \\\n",
       "0                 0.010862   93.391418                     6.09375   \n",
       "1                 0.016358   96.765137                     6.09375   \n",
       "2                 0.017263  103.529358                     6.09375   \n",
       "3                 0.542648   93.055725                     6.09375   \n",
       "4                 0.557098   94.188690                     6.09375   \n",
       "\n",
       "   seawater_salinity_PSU  \n",
       "0               0.013536  \n",
       "1               0.013326  \n",
       "2               0.012655  \n",
       "3              11.601472  \n",
       "4              11.631321  "
      ]
     },
     "execution_count": 12,
     "metadata": {},
     "output_type": "execute_result"
    }
   ],
   "source": [
    "df.head()"
   ]
  },
  {
   "cell_type": "code",
   "execution_count": 13,
   "metadata": {},
   "outputs": [],
   "source": [
    "ODOtest = pandas.read_csv(\"tests/ysi_test_files/SA08.CDF\")"
   ]
  },
  {
   "cell_type": "code",
   "execution_count": 14,
   "metadata": {},
   "outputs": [
    {
     "name": "stderr",
     "output_type": "stream",
     "text": [
      "C:\\Users\\ETurner\\AppData\\Local\\Continuum\\Anaconda3\\lib\\site-packages\\seawater\\library.py:363: RuntimeWarning: invalid value encountered in sqrt\n",
      "  Rtx = (rt) ** 0.5\n"
     ]
    }
   ],
   "source": [
    "df = sonde3.calculate_salinity_psu(df)\n",
    "df = sonde3.calculate_do_mgl(df)"
   ]
  },
  {
   "cell_type": "code",
   "execution_count": 15,
   "metadata": {},
   "outputs": [
    {
     "data": {
      "text/html": [
       "<div>\n",
       "<style>\n",
       "    .dataframe thead tr:only-child th {\n",
       "        text-align: right;\n",
       "    }\n",
       "\n",
       "    .dataframe thead th {\n",
       "        text-align: left;\n",
       "    }\n",
       "\n",
       "    .dataframe tbody tr th {\n",
       "        vertical-align: top;\n",
       "    }\n",
       "</style>\n",
       "<table border=\"1\" class=\"dataframe\">\n",
       "  <thead>\n",
       "    <tr style=\"text-align: right;\">\n",
       "      <th></th>\n",
       "      <th>datetime_(UTC)</th>\n",
       "      <th>water_temp_c</th>\n",
       "      <th>water_conductivity_mS/cm</th>\n",
       "      <th>water_depth_m_nonvented</th>\n",
       "      <th>water_DO_%</th>\n",
       "      <th>instrument_battery_voltage</th>\n",
       "      <th>seawater_salinity_PSU</th>\n",
       "      <th>seawater_do_mgl</th>\n",
       "    </tr>\n",
       "  </thead>\n",
       "  <tbody>\n",
       "    <tr>\n",
       "      <th>0</th>\n",
       "      <td>2008-07-16 12:51:31+00:00</td>\n",
       "      <td>28.998718</td>\n",
       "      <td>0.000037</td>\n",
       "      <td>0.010862</td>\n",
       "      <td>93.391418</td>\n",
       "      <td>6.09375</td>\n",
       "      <td>0.013536</td>\n",
       "      <td>7.183420</td>\n",
       "    </tr>\n",
       "    <tr>\n",
       "      <th>1</th>\n",
       "      <td>2008-07-16 13:51:31+00:00</td>\n",
       "      <td>28.482361</td>\n",
       "      <td>0.000059</td>\n",
       "      <td>0.016358</td>\n",
       "      <td>96.765137</td>\n",
       "      <td>6.09375</td>\n",
       "      <td>0.013326</td>\n",
       "      <td>7.510631</td>\n",
       "    </tr>\n",
       "    <tr>\n",
       "      <th>2</th>\n",
       "      <td>2008-07-16 14:51:31+00:00</td>\n",
       "      <td>27.257385</td>\n",
       "      <td>0.000546</td>\n",
       "      <td>0.017263</td>\n",
       "      <td>103.529358</td>\n",
       "      <td>6.09375</td>\n",
       "      <td>0.012655</td>\n",
       "      <td>8.212117</td>\n",
       "    </tr>\n",
       "    <tr>\n",
       "      <th>3</th>\n",
       "      <td>2008-07-16 15:51:31+00:00</td>\n",
       "      <td>29.507751</td>\n",
       "      <td>21.301758</td>\n",
       "      <td>0.542648</td>\n",
       "      <td>93.055725</td>\n",
       "      <td>6.09375</td>\n",
       "      <td>11.601472</td>\n",
       "      <td>6.655432</td>\n",
       "    </tr>\n",
       "    <tr>\n",
       "      <th>4</th>\n",
       "      <td>2008-07-16 16:51:31+00:00</td>\n",
       "      <td>29.762268</td>\n",
       "      <td>21.454102</td>\n",
       "      <td>0.557098</td>\n",
       "      <td>94.188690</td>\n",
       "      <td>6.09375</td>\n",
       "      <td>11.631321</td>\n",
       "      <td>6.706414</td>\n",
       "    </tr>\n",
       "  </tbody>\n",
       "</table>\n",
       "</div>"
      ],
      "text/plain": [
       "             datetime_(UTC)  water_temp_c  water_conductivity_mS/cm  \\\n",
       "0 2008-07-16 12:51:31+00:00     28.998718                  0.000037   \n",
       "1 2008-07-16 13:51:31+00:00     28.482361                  0.000059   \n",
       "2 2008-07-16 14:51:31+00:00     27.257385                  0.000546   \n",
       "3 2008-07-16 15:51:31+00:00     29.507751                 21.301758   \n",
       "4 2008-07-16 16:51:31+00:00     29.762268                 21.454102   \n",
       "\n",
       "   water_depth_m_nonvented  water_DO_%  instrument_battery_voltage  \\\n",
       "0                 0.010862   93.391418                     6.09375   \n",
       "1                 0.016358   96.765137                     6.09375   \n",
       "2                 0.017263  103.529358                     6.09375   \n",
       "3                 0.542648   93.055725                     6.09375   \n",
       "4                 0.557098   94.188690                     6.09375   \n",
       "\n",
       "   seawater_salinity_PSU  seawater_do_mgl  \n",
       "0               0.013536         7.183420  \n",
       "1               0.013326         7.510631  \n",
       "2               0.012655         8.212117  \n",
       "3              11.601472         6.655432  \n",
       "4              11.631321         6.706414  "
      ]
     },
     "execution_count": 15,
     "metadata": {},
     "output_type": "execute_result"
    }
   ],
   "source": [
    "df.head()"
   ]
  },
  {
   "cell_type": "code",
   "execution_count": null,
   "metadata": {
    "collapsed": true
   },
   "outputs": [],
   "source": [
    "sonde3."
   ]
  }
 ],
 "metadata": {
  "kernelspec": {
   "display_name": "Python 3",
   "language": "python",
   "name": "python3"
  },
  "language_info": {
   "codemirror_mode": {
    "name": "ipython",
    "version": 3
   },
   "file_extension": ".py",
   "mimetype": "text/x-python",
   "name": "python",
   "nbconvert_exporter": "python",
   "pygments_lexer": "ipython3",
   "version": "3.6.1"
  }
 },
 "nbformat": 4,
 "nbformat_minor": 2
}
